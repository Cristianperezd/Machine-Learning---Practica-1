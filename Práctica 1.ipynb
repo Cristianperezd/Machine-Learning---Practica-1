{
 "cells": [
  {
   "cell_type": "markdown",
   "id": "627703bb",
   "metadata": {},
   "source": [
    "# Pràctica 1\n",
    "\n",
    "\n",
    "## Household Electric Power Consumption\n",
    "\n",
    "https://www.kaggle.com/datasets/uciml/electric-power-consumption-data-set\n",
    "    "
   ]
  },
  {
   "cell_type": "markdown",
   "id": "2ab57a6e",
   "metadata": {},
   "source": [
    "# Apartat (C): Analitzant Dades\n"
   ]
  },
  {
   "cell_type": "code",
   "execution_count": null,
   "id": "54648181",
   "metadata": {},
   "outputs": [],
   "source": []
  },
  {
   "cell_type": "code",
   "execution_count": null,
   "id": "4189dfd2",
   "metadata": {},
   "outputs": [],
   "source": []
  },
  {
   "cell_type": "code",
   "execution_count": null,
   "id": "8b68d7d4",
   "metadata": {},
   "outputs": [],
   "source": []
  },
  {
   "cell_type": "code",
   "execution_count": null,
   "id": "2e0b7391",
   "metadata": {},
   "outputs": [],
   "source": []
  }
 ],
 "metadata": {
  "kernelspec": {
   "display_name": "Python 3 (ipykernel)",
   "language": "python",
   "name": "python3"
  },
  "language_info": {
   "codemirror_mode": {
    "name": "ipython",
    "version": 3
   },
   "file_extension": ".py",
   "mimetype": "text/x-python",
   "name": "python",
   "nbconvert_exporter": "python",
   "pygments_lexer": "ipython3",
   "version": "3.10.4"
  }
 },
 "nbformat": 4,
 "nbformat_minor": 5
}
